{
  "nbformat": 4,
  "nbformat_minor": 0,
  "metadata": {
    "colab": {
      "provenance": []
    },
    "kernelspec": {
      "name": "python3",
      "display_name": "Python 3"
    },
    "language_info": {
      "name": "python"
    }
  },
  "cells": [
    {
      "cell_type": "markdown",
      "source": [
        "# ℹ️ This Notebook was created for educational proposal"
      ],
      "metadata": {
        "id": "tZ_CpsBCjJwT"
      }
    },
    {
      "cell_type": "markdown",
      "source": [
        "## Installing libraries"
      ],
      "metadata": {
        "id": "bTpfVk9SfoYZ"
      }
    },
    {
      "cell_type": "code",
      "source": [
        "!pip install pybase64"
      ],
      "metadata": {
        "colab": {
          "base_uri": "https://localhost:8080/"
        },
        "id": "ifI4jM9JWbdD",
        "outputId": "4430e302-f7e4-46e1-ff03-d1f3ff2ff58b"
      },
      "execution_count": null,
      "outputs": [
        {
          "output_type": "stream",
          "name": "stdout",
          "text": [
            "Requirement already satisfied: pybase64 in /usr/local/lib/python3.10/dist-packages (1.3.1)\n"
          ]
        }
      ]
    },
    {
      "cell_type": "code",
      "source": [
        "!pip install python-magic"
      ],
      "metadata": {
        "colab": {
          "base_uri": "https://localhost:8080/"
        },
        "id": "La1c3W5dZKQz",
        "outputId": "52ae760b-fefd-4c08-9eef-968c8d92530f"
      },
      "execution_count": null,
      "outputs": [
        {
          "output_type": "stream",
          "name": "stdout",
          "text": [
            "Requirement already satisfied: python-magic in /usr/local/lib/python3.10/dist-packages (0.4.27)\n"
          ]
        }
      ]
    },
    {
      "cell_type": "markdown",
      "source": [
        "## Importing libraries"
      ],
      "metadata": {
        "id": "8BEN4i7YfxYU"
      }
    },
    {
      "cell_type": "code",
      "source": [
        "import bs4\n",
        "import pandas as pd\n",
        "import pybase64\n",
        "import magic\n",
        "import mimetypes\n",
        "import os\n",
        "import urllib\n",
        "import hashlib\n",
        "from tqdm import tqdm"
      ],
      "metadata": {
        "id": "4Koa2ajuPZpJ"
      },
      "execution_count": null,
      "outputs": []
    },
    {
      "cell_type": "markdown",
      "source": [
        "## Reading index.html"
      ],
      "metadata": {
        "id": "uv2u1Pfjf3Ok"
      }
    },
    {
      "cell_type": "code",
      "source": [
        "html = None\n",
        "with open('index.html','r') as file:\n",
        "  html = file.read()"
      ],
      "metadata": {
        "id": "XldZX1ab8HRi"
      },
      "execution_count": null,
      "outputs": []
    },
    {
      "cell_type": "code",
      "source": [
        "soup = bs4.BeautifulSoup(html)"
      ],
      "metadata": {
        "id": "JywKMMOsPgKm"
      },
      "execution_count": null,
      "outputs": []
    },
    {
      "cell_type": "markdown",
      "source": [
        "## Getting images tags"
      ],
      "metadata": {
        "id": "8NsDYX7egD0G"
      }
    },
    {
      "cell_type": "code",
      "source": [
        "html_div = soup.find('div', {'id':'islrg'})"
      ],
      "metadata": {
        "id": "sGiSjt_uPkOw"
      },
      "execution_count": null,
      "outputs": []
    },
    {
      "cell_type": "code",
      "source": [
        "src_list = []\n",
        "for tag in html_div.find_all('img'):\n",
        "  try:\n",
        "    src_list.append(tag['src'])\n",
        "  except:\n",
        "    pass"
      ],
      "metadata": {
        "id": "FfrOUYDYQcxz"
      },
      "execution_count": null,
      "outputs": []
    },
    {
      "cell_type": "markdown",
      "source": [
        "## Saving data in a pandas DataFrame"
      ],
      "metadata": {
        "id": "eCj9jWNWgJzI"
      }
    },
    {
      "cell_type": "code",
      "source": [
        "df = pd.DataFrame({'src':src_list})"
      ],
      "metadata": {
        "id": "7qtJeQjsRRCM"
      },
      "execution_count": null,
      "outputs": []
    },
    {
      "cell_type": "markdown",
      "source": [
        "## Removing duplicated and icons images"
      ],
      "metadata": {
        "id": "w0hf5SHmgTgx"
      }
    },
    {
      "cell_type": "code",
      "source": [
        "df = df.drop_duplicates()"
      ],
      "metadata": {
        "id": "Z6kCSS2VTGZL"
      },
      "execution_count": null,
      "outputs": []
    },
    {
      "cell_type": "code",
      "source": [
        "df = df[df['src'].str.contains('favicon') == False]"
      ],
      "metadata": {
        "id": "ATWtRxQMTOR-"
      },
      "execution_count": null,
      "outputs": []
    },
    {
      "cell_type": "markdown",
      "source": [
        "## Function save images"
      ],
      "metadata": {
        "id": "ckml2Kxugk5t"
      }
    },
    {
      "cell_type": "code",
      "source": [
        "def base64_to_image(base64:str,output_path:str):\n",
        "  base64 = base64.split('base64')\n",
        "  format = None\n",
        "  if 'jpeg' in base64[0]:\n",
        "    format = 'jpg'\n",
        "  elif 'png' in base64[0]:\n",
        "    format = 'png'\n",
        "  elif 'gif' in base64[0]:\n",
        "    format = 'gif'\n",
        "  else:\n",
        "    raise Exception('Unknown image extension')\n",
        "\n",
        "  base64 = base64[1][1:]\n",
        "\n",
        "  decoded_b64 = pybase64.b64decode((base64))\n",
        "  file_name = f'{hashlib.md5(base64.encode()).hexdigest()}.{format}'\n",
        "  file_path = os.path.join(output_path,file_name)\n",
        "  img_file = open(file_path, 'wb')\n",
        "  img_file.write(decoded_b64)\n",
        "  img_file.close()"
      ],
      "metadata": {
        "id": "ndzgG-3rTv0J"
      },
      "execution_count": null,
      "outputs": []
    },
    {
      "cell_type": "code",
      "source": [
        "def url_to_image(url:str,output_path:str):\n",
        "  mime = magic.Magic(mime=True)\n",
        "  output = hashlib.md5(url.encode()).hexdigest()\n",
        "  file_path = os.path.join(output_path,output)\n",
        "  urllib.request.urlretrieve(url,file_path)\n",
        "  mimes = mime.from_file(file_path)\n",
        "  ext = mimetypes.guess_all_extensions(mimes)[0]\n",
        "  os.rename(file_path, file_path+ext)"
      ],
      "metadata": {
        "id": "iX1NTfQsXenZ"
      },
      "execution_count": null,
      "outputs": []
    },
    {
      "cell_type": "markdown",
      "source": [
        "## Save all the images in 'dataset/images' folder"
      ],
      "metadata": {
        "id": "Ns-i06oag2vu"
      }
    },
    {
      "cell_type": "code",
      "source": [
        "print('Saving the images. Please wait...')\n",
        "output_path = 'dataset/images'\n",
        "if os.path.exists(output_path) == False:\n",
        "  os.makedirs(output_path)\n",
        "for row in tqdm(df.iterrows()):\n",
        "  src = row[1]['src']\n",
        "  if src[0:4] == 'data':\n",
        "    base64_to_image(src,output_path)\n",
        "  elif src[0:4] == 'http':\n",
        "    url_to_image(src,output_path)\n",
        "  else:\n",
        "    raise Exception('Unknown source')\n",
        "print()\n",
        "print('Images saved successfully')\n",
        "print('Total:',df.shape[0],'images')"
      ],
      "metadata": {
        "colab": {
          "base_uri": "https://localhost:8080/"
        },
        "id": "zwZezXtMelIp",
        "outputId": "cf17a0fe-4128-447f-a98b-a05e8643c03b"
      },
      "execution_count": null,
      "outputs": [
        {
          "output_type": "stream",
          "name": "stdout",
          "text": [
            "Saving the images. Please wait...\n"
          ]
        },
        {
          "output_type": "stream",
          "name": "stderr",
          "text": [
            "434it [00:16, 26.96it/s]"
          ]
        },
        {
          "output_type": "stream",
          "name": "stdout",
          "text": [
            "Images saved successfully\n",
            "Total: 434 images\n"
          ]
        },
        {
          "output_type": "stream",
          "name": "stderr",
          "text": [
            "\n"
          ]
        }
      ]
    },
    {
      "cell_type": "markdown",
      "source": [
        "## Compress and save images in './images.tar.gz'\n"
      ],
      "metadata": {
        "id": "8fypiwwTiOzE"
      }
    },
    {
      "cell_type": "code",
      "source": [
        "!tar czf images.tar.gz dataset/images/"
      ],
      "metadata": {
        "id": "kpid2pOniVgU"
      },
      "execution_count": null,
      "outputs": []
    }
  ]
}